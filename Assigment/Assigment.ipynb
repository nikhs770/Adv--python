{
 "cells": [
  {
   "cell_type": "code",
   "execution_count": 1,
   "metadata": {},
   "outputs": [],
   "source": [
    "from dataclasses import dataclass"
   ]
  },
  {
   "cell_type": "code",
   "execution_count": null,
   "metadata": {},
   "outputs": [],
   "source": [
    "@dataclass\n",
    "class Triangle:\n",
    "    a: int|float\n",
    "    b: int|float\n",
    "    c: int|float\n",
    "\n",
    "    def is_triangle(self) -> bool:\n",
    "        if (\n",
    "            (self.a + self.b > self.c)\n",
    "            and (self.b + self.c > self.a)\n",
    "            and (self.a + self.c > self.b)\n",
    "\n",
    "\n",
    "\n",
    "        ):\n",
    "            return True\n",
    "        else:\n",
    "            return False\n",
    "\n",
    "  def _post_init_(self):\n",
    "      errors = []\n",
    "      if not isinstance(self.a, (int,float)) or self.a <=0:\n",
    "          errors.append(\"Side a should be positive int or float\")\n",
    "      if not isinstance(self.b, (int,float)) or self.b <=0:\n",
    "          errors.append(\"Side b should be a positive int or float\")\n",
    "      if not isinstance(self.c, (int, float)) or self.c <=0:\n",
    "          errors.append(\"Side c should be a positive int or float\")\n",
    "      if not self.is_triangle():\n",
    "          errors.append(\"Given sides do not form a triangle\")\n",
    "\n",
    "          if errors:\n",
    "              raise ValueError(\"\\n\".join(errors))                \n",
    "          def perimeter(self):\n",
    "              return self.a + self.b + self.c"
   ]
  }
 ],
 "metadata": {
  "kernelspec": {
   "display_name": "venv",
   "language": "python",
   "name": "python3"
  },
  "language_info": {
   "codemirror_mode": {
    "name": "ipython",
    "version": 3
   },
   "file_extension": ".py",
   "mimetype": "text/x-python",
   "name": "python",
   "nbconvert_exporter": "python",
   "pygments_lexer": "ipython3",
   "version": "3.12.8"
  }
 },
 "nbformat": 4,
 "nbformat_minor": 2
}
